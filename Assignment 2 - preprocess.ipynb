{
 "cells": [
  {
   "cell_type": "code",
   "execution_count": null,
   "metadata": {},
   "outputs": [],
   "source": [
    "!"
   ]
  },
  {
   "cell_type": "code",
   "execution_count": 1,
   "metadata": {},
   "outputs": [
    {
     "ename": "ModuleNotFoundError",
     "evalue": "No module named 'tensorflow'",
     "output_type": "error",
     "traceback": [
      "\u001b[1;31m---------------------------------------------------------------------------\u001b[0m",
      "\u001b[1;31mModuleNotFoundError\u001b[0m                       Traceback (most recent call last)",
      "\u001b[1;32m<ipython-input-1-64156d691fe5>\u001b[0m in \u001b[0;36m<module>\u001b[1;34m()\u001b[0m\n\u001b[1;32m----> 1\u001b[1;33m \u001b[1;32mimport\u001b[0m \u001b[0mtensorflow\u001b[0m \u001b[1;32mas\u001b[0m \u001b[0mtf\u001b[0m\u001b[1;33m\u001b[0m\u001b[0m\n\u001b[0m",
      "\u001b[1;31mModuleNotFoundError\u001b[0m: No module named 'tensorflow'"
     ]
    }
   ],
   "source": [
    "import tensorflow as tf"
   ]
  },
  {
   "cell_type": "code",
   "execution_count": 1,
   "metadata": {},
   "outputs": [],
   "source": [
    "import pandas as pd\n",
    "import os\n",
    "import gensim\n",
    "from tqdm import tqdm\n",
    "from gensim.models import Doc2Vec\n",
    "from gensim.models.doc2vec import TaggedDocument\n",
    "import nltk\n",
    "from sklearn.linear_model import LogisticRegression\n",
    "from sklearn.model_selection import train_test_split\n",
    "from sklearn import utils\n",
    "from sklearn.metrics import accuracy_score, f1_score\n",
    "from sklearn.datasets import load_files\n",
    "from sklearn.feature_extraction.text import CountVectorizer\n",
    "from nltk.stem import WordNetLemmatizer\n",
    "from sklearn.feature_extraction.text import TfidfTransformer\n",
    "from sklearn.preprocessing import LabelEncoder\n",
    "import numpy as np\n",
    "import re\n",
    "from sklearn.model_selection import GridSearchCV"
   ]
  },
  {
   "cell_type": "code",
   "execution_count": 2,
   "metadata": {},
   "outputs": [],
   "source": [
    "labeled_features = pd.read_excel(\"bag_of_words_v1.xlsx\")\n",
    "labeled_features_v1 = pd.read_excel(\"bag_of_words_v2.xlsx\")\n",
    "test_label_features = pd.read_excel(\"test_bag_of_words.xlsx\")\n",
    "unlabeled_data = pd.read_csv(\"Training Dataset/unlabeled_data.csv\")\n",
    "test_file = pd.read_excel(\"kaggle_test_bag_of_words.xlsx\")"
   ]
  },
  {
   "cell_type": "code",
   "execution_count": 3,
   "metadata": {
    "scrolled": true
   },
   "outputs": [
    {
     "data": {
      "text/html": [
       "<div>\n",
       "<style scoped>\n",
       "    .dataframe tbody tr th:only-of-type {\n",
       "        vertical-align: middle;\n",
       "    }\n",
       "\n",
       "    .dataframe tbody tr th {\n",
       "        vertical-align: top;\n",
       "    }\n",
       "\n",
       "    .dataframe thead th {\n",
       "        text-align: right;\n",
       "    }\n",
       "</style>\n",
       "<table border=\"1\" class=\"dataframe\">\n",
       "  <thead>\n",
       "    <tr style=\"text-align: right;\">\n",
       "      <th></th>\n",
       "      <th>text</th>\n",
       "      <th>label</th>\n",
       "      <th>sad</th>\n",
       "      <th>smile</th>\n",
       "      <th>laugh</th>\n",
       "      <th>very_happy</th>\n",
       "      <th>crying</th>\n",
       "      <th>tongueOut</th>\n",
       "      <th>wink</th>\n",
       "      <th>kiss</th>\n",
       "      <th>surprise</th>\n",
       "      <th>disgust</th>\n",
       "      <th>exclamation</th>\n",
       "      <th>capital_Ratio</th>\n",
       "    </tr>\n",
       "  </thead>\n",
       "  <tbody>\n",
       "    <tr>\n",
       "      <th>0</th>\n",
       "      <td>the_new rule is if you_are waiting_for table w...</td>\n",
       "      <td>4</td>\n",
       "      <td>0</td>\n",
       "      <td>0</td>\n",
       "      <td>0</td>\n",
       "      <td>0</td>\n",
       "      <td>0</td>\n",
       "      <td>0</td>\n",
       "      <td>0</td>\n",
       "      <td>1</td>\n",
       "      <td>0</td>\n",
       "      <td>0</td>\n",
       "      <td>0</td>\n",
       "      <td>0.029010</td>\n",
       "    </tr>\n",
       "    <tr>\n",
       "      <th>1</th>\n",
       "      <td>flirted with giving this two_star but_that is ...</td>\n",
       "      <td>3</td>\n",
       "      <td>0</td>\n",
       "      <td>0</td>\n",
       "      <td>0</td>\n",
       "      <td>0</td>\n",
       "      <td>0</td>\n",
       "      <td>0</td>\n",
       "      <td>0</td>\n",
       "      <td>0</td>\n",
       "      <td>0</td>\n",
       "      <td>0</td>\n",
       "      <td>0</td>\n",
       "      <td>0.019856</td>\n",
       "    </tr>\n",
       "    <tr>\n",
       "      <th>2</th>\n",
       "      <td>wa staying at planet hollywood across_the stre...</td>\n",
       "      <td>5</td>\n",
       "      <td>0</td>\n",
       "      <td>1</td>\n",
       "      <td>0</td>\n",
       "      <td>0</td>\n",
       "      <td>0</td>\n",
       "      <td>0</td>\n",
       "      <td>0</td>\n",
       "      <td>0</td>\n",
       "      <td>0</td>\n",
       "      <td>0</td>\n",
       "      <td>0</td>\n",
       "      <td>0.018550</td>\n",
       "    </tr>\n",
       "    <tr>\n",
       "      <th>3</th>\n",
       "      <td>food is good_but price_are super expensive buc...</td>\n",
       "      <td>2</td>\n",
       "      <td>0</td>\n",
       "      <td>0</td>\n",
       "      <td>0</td>\n",
       "      <td>0</td>\n",
       "      <td>0</td>\n",
       "      <td>0</td>\n",
       "      <td>0</td>\n",
       "      <td>0</td>\n",
       "      <td>0</td>\n",
       "      <td>0</td>\n",
       "      <td>0</td>\n",
       "      <td>0.021307</td>\n",
       "    </tr>\n",
       "    <tr>\n",
       "      <th>4</th>\n",
       "      <td>worse company to deal with they do horrible wo...</td>\n",
       "      <td>1</td>\n",
       "      <td>0</td>\n",
       "      <td>0</td>\n",
       "      <td>0</td>\n",
       "      <td>0</td>\n",
       "      <td>0</td>\n",
       "      <td>0</td>\n",
       "      <td>0</td>\n",
       "      <td>0</td>\n",
       "      <td>0</td>\n",
       "      <td>0</td>\n",
       "      <td>0</td>\n",
       "      <td>0.011024</td>\n",
       "    </tr>\n",
       "  </tbody>\n",
       "</table>\n",
       "</div>"
      ],
      "text/plain": [
       "                                                text  label  sad  smile  \\\n",
       "0  the_new rule is if you_are waiting_for table w...      4    0      0   \n",
       "1  flirted with giving this two_star but_that is ...      3    0      0   \n",
       "2  wa staying at planet hollywood across_the stre...      5    0      1   \n",
       "3  food is good_but price_are super expensive buc...      2    0      0   \n",
       "4  worse company to deal with they do horrible wo...      1    0      0   \n",
       "\n",
       "   laugh  very_happy  crying  tongueOut  wink  kiss  surprise  disgust  \\\n",
       "0      0           0       0          0     0     1         0        0   \n",
       "1      0           0       0          0     0     0         0        0   \n",
       "2      0           0       0          0     0     0         0        0   \n",
       "3      0           0       0          0     0     0         0        0   \n",
       "4      0           0       0          0     0     0         0        0   \n",
       "\n",
       "   exclamation  capital_Ratio  \n",
       "0            0       0.029010  \n",
       "1            0       0.019856  \n",
       "2            0       0.018550  \n",
       "3            0       0.021307  \n",
       "4            0       0.011024  "
      ]
     },
     "execution_count": 3,
     "metadata": {},
     "output_type": "execute_result"
    }
   ],
   "source": [
    "labeled_features_v1.head()"
   ]
  },
  {
   "cell_type": "code",
   "execution_count": 23,
   "metadata": {},
   "outputs": [
    {
     "data": {
      "text/html": [
       "<div>\n",
       "<style scoped>\n",
       "    .dataframe tbody tr th:only-of-type {\n",
       "        vertical-align: middle;\n",
       "    }\n",
       "\n",
       "    .dataframe tbody tr th {\n",
       "        vertical-align: top;\n",
       "    }\n",
       "\n",
       "    .dataframe thead th {\n",
       "        text-align: right;\n",
       "    }\n",
       "</style>\n",
       "<table border=\"1\" class=\"dataframe\">\n",
       "  <thead>\n",
       "    <tr style=\"text-align: right;\">\n",
       "      <th></th>\n",
       "      <th>text</th>\n",
       "    </tr>\n",
       "  </thead>\n",
       "  <tbody>\n",
       "    <tr>\n",
       "      <th>0</th>\n",
       "      <td>Had a good experience when my wife and I sat a...</td>\n",
       "    </tr>\n",
       "    <tr>\n",
       "      <th>1</th>\n",
       "      <td>On my first to Montreal with my gf we came her...</td>\n",
       "    </tr>\n",
       "    <tr>\n",
       "      <th>2</th>\n",
       "      <td>One of our favorite places to go when it's col...</td>\n",
       "    </tr>\n",
       "  </tbody>\n",
       "</table>\n",
       "</div>"
      ],
      "text/plain": [
       "                                                text\n",
       "0  Had a good experience when my wife and I sat a...\n",
       "1  On my first to Montreal with my gf we came her...\n",
       "2  One of our favorite places to go when it's col..."
      ]
     },
     "execution_count": 23,
     "metadata": {},
     "output_type": "execute_result"
    }
   ],
   "source": [
    "unlabeled_data.head(3)"
   ]
  },
  {
   "cell_type": "code",
   "execution_count": null,
   "metadata": {},
   "outputs": [],
   "source": [
    "test_label_features.head()"
   ]
  },
  {
   "cell_type": "code",
   "execution_count": 4,
   "metadata": {
    "scrolled": true
   },
   "outputs": [
    {
     "data": {
      "text/html": [
       "<div>\n",
       "<style scoped>\n",
       "    .dataframe tbody tr th:only-of-type {\n",
       "        vertical-align: middle;\n",
       "    }\n",
       "\n",
       "    .dataframe tbody tr th {\n",
       "        vertical-align: top;\n",
       "    }\n",
       "\n",
       "    .dataframe thead th {\n",
       "        text-align: right;\n",
       "    }\n",
       "</style>\n",
       "<table border=\"1\" class=\"dataframe\">\n",
       "  <thead>\n",
       "    <tr style=\"text-align: right;\">\n",
       "      <th></th>\n",
       "      <th>text</th>\n",
       "      <th>label</th>\n",
       "      <th>sad</th>\n",
       "      <th>smile</th>\n",
       "      <th>laugh</th>\n",
       "      <th>very_happy</th>\n",
       "      <th>crying</th>\n",
       "      <th>tongueOut</th>\n",
       "      <th>wink</th>\n",
       "      <th>kiss</th>\n",
       "      <th>surprise</th>\n",
       "      <th>disgust</th>\n",
       "      <th>exclamation</th>\n",
       "      <th>capital_Ratio</th>\n",
       "    </tr>\n",
       "  </thead>\n",
       "  <tbody>\n",
       "    <tr>\n",
       "      <th>1491</th>\n",
       "      <td>NaN</td>\n",
       "      <td>1</td>\n",
       "      <td>0</td>\n",
       "      <td>0</td>\n",
       "      <td>0</td>\n",
       "      <td>0</td>\n",
       "      <td>0</td>\n",
       "      <td>0</td>\n",
       "      <td>0</td>\n",
       "      <td>0</td>\n",
       "      <td>0</td>\n",
       "      <td>0</td>\n",
       "      <td>0</td>\n",
       "      <td>0.0</td>\n",
       "    </tr>\n",
       "    <tr>\n",
       "      <th>29785</th>\n",
       "      <td>NaN</td>\n",
       "      <td>2</td>\n",
       "      <td>0</td>\n",
       "      <td>0</td>\n",
       "      <td>0</td>\n",
       "      <td>0</td>\n",
       "      <td>0</td>\n",
       "      <td>0</td>\n",
       "      <td>1</td>\n",
       "      <td>0</td>\n",
       "      <td>0</td>\n",
       "      <td>0</td>\n",
       "      <td>0</td>\n",
       "      <td>0.0</td>\n",
       "    </tr>\n",
       "  </tbody>\n",
       "</table>\n",
       "</div>"
      ],
      "text/plain": [
       "      text  label  sad  smile  laugh  very_happy  crying  tongueOut  wink  \\\n",
       "1491   NaN      1    0      0      0           0       0          0     0   \n",
       "29785  NaN      2    0      0      0           0       0          0     1   \n",
       "\n",
       "       kiss  surprise  disgust  exclamation  capital_Ratio  \n",
       "1491      0         0        0            0            0.0  \n",
       "29785     0         0        0            0            0.0  "
      ]
     },
     "execution_count": 4,
     "metadata": {},
     "output_type": "execute_result"
    }
   ],
   "source": [
    " labeled_features_v1[labeled_features_v1['text'].isnull()]"
   ]
  },
  {
   "cell_type": "code",
   "execution_count": 24,
   "metadata": {},
   "outputs": [
    {
     "data": {
      "text/html": [
       "<div>\n",
       "<style scoped>\n",
       "    .dataframe tbody tr th:only-of-type {\n",
       "        vertical-align: middle;\n",
       "    }\n",
       "\n",
       "    .dataframe tbody tr th {\n",
       "        vertical-align: top;\n",
       "    }\n",
       "\n",
       "    .dataframe thead th {\n",
       "        text-align: right;\n",
       "    }\n",
       "</style>\n",
       "<table border=\"1\" class=\"dataframe\">\n",
       "  <thead>\n",
       "    <tr style=\"text-align: right;\">\n",
       "      <th></th>\n",
       "      <th>text</th>\n",
       "    </tr>\n",
       "  </thead>\n",
       "  <tbody>\n",
       "  </tbody>\n",
       "</table>\n",
       "</div>"
      ],
      "text/plain": [
       "Empty DataFrame\n",
       "Columns: [text]\n",
       "Index: []"
      ]
     },
     "execution_count": 24,
     "metadata": {},
     "output_type": "execute_result"
    }
   ],
   "source": [
    "unlabeled_data[unlabeled_data['text'].isnull()]"
   ]
  },
  {
   "cell_type": "code",
   "execution_count": 7,
   "metadata": {
    "scrolled": true
   },
   "outputs": [
    {
     "data": {
      "text/html": [
       "<div>\n",
       "<style scoped>\n",
       "    .dataframe tbody tr th:only-of-type {\n",
       "        vertical-align: middle;\n",
       "    }\n",
       "\n",
       "    .dataframe tbody tr th {\n",
       "        vertical-align: top;\n",
       "    }\n",
       "\n",
       "    .dataframe thead th {\n",
       "        text-align: right;\n",
       "    }\n",
       "</style>\n",
       "<table border=\"1\" class=\"dataframe\">\n",
       "  <thead>\n",
       "    <tr style=\"text-align: right;\">\n",
       "      <th></th>\n",
       "      <th>text</th>\n",
       "      <th>label</th>\n",
       "      <th>sad</th>\n",
       "      <th>smile</th>\n",
       "      <th>laugh</th>\n",
       "      <th>very_happy</th>\n",
       "      <th>crying</th>\n",
       "      <th>tongueOut</th>\n",
       "      <th>wink</th>\n",
       "      <th>kiss</th>\n",
       "      <th>surprise</th>\n",
       "      <th>disgust</th>\n",
       "      <th>exclamation</th>\n",
       "      <th>capital_Ratio</th>\n",
       "    </tr>\n",
       "  </thead>\n",
       "  <tbody>\n",
       "  </tbody>\n",
       "</table>\n",
       "</div>"
      ],
      "text/plain": [
       "Empty DataFrame\n",
       "Columns: [text, label, sad, smile, laugh, very_happy, crying, tongueOut, wink, kiss, surprise, disgust, exclamation, capital_Ratio]\n",
       "Index: []"
      ]
     },
     "execution_count": 7,
     "metadata": {},
     "output_type": "execute_result"
    }
   ],
   "source": [
    "test_label_features[test_label_features['text'].isnull()]"
   ]
  },
  {
   "cell_type": "code",
   "execution_count": 29,
   "metadata": {},
   "outputs": [
    {
     "data": {
      "text/html": [
       "<div>\n",
       "<style scoped>\n",
       "    .dataframe tbody tr th:only-of-type {\n",
       "        vertical-align: middle;\n",
       "    }\n",
       "\n",
       "    .dataframe tbody tr th {\n",
       "        vertical-align: top;\n",
       "    }\n",
       "\n",
       "    .dataframe thead th {\n",
       "        text-align: right;\n",
       "    }\n",
       "</style>\n",
       "<table border=\"1\" class=\"dataframe\">\n",
       "  <thead>\n",
       "    <tr style=\"text-align: right;\">\n",
       "      <th></th>\n",
       "      <th>text</th>\n",
       "      <th>sad</th>\n",
       "      <th>smile</th>\n",
       "      <th>laugh</th>\n",
       "      <th>very_happy</th>\n",
       "      <th>crying</th>\n",
       "      <th>tongueOut</th>\n",
       "      <th>wink</th>\n",
       "      <th>kiss</th>\n",
       "      <th>surprise</th>\n",
       "      <th>disgust</th>\n",
       "      <th>exclamation</th>\n",
       "      <th>capital_Ratio</th>\n",
       "    </tr>\n",
       "  </thead>\n",
       "  <tbody>\n",
       "    <tr>\n",
       "      <th>39384</th>\n",
       "      <td>NaN</td>\n",
       "      <td>0</td>\n",
       "      <td>0</td>\n",
       "      <td>0</td>\n",
       "      <td>0</td>\n",
       "      <td>0</td>\n",
       "      <td>0</td>\n",
       "      <td>0</td>\n",
       "      <td>0</td>\n",
       "      <td>0</td>\n",
       "      <td>0</td>\n",
       "      <td>0</td>\n",
       "      <td>0.00289</td>\n",
       "    </tr>\n",
       "  </tbody>\n",
       "</table>\n",
       "</div>"
      ],
      "text/plain": [
       "      text  sad  smile  laugh  very_happy  crying  tongueOut  wink  kiss  \\\n",
       "39384  NaN    0      0      0           0       0          0     0     0   \n",
       "\n",
       "       surprise  disgust  exclamation  capital_Ratio  \n",
       "39384         0        0            0        0.00289  "
      ]
     },
     "execution_count": 29,
     "metadata": {},
     "output_type": "execute_result"
    }
   ],
   "source": [
    "test_file[test_file['text'].isnull()]"
   ]
  },
  {
   "cell_type": "code",
   "execution_count": 5,
   "metadata": {},
   "outputs": [],
   "source": [
    "# Drop NaNs\n",
    "\n",
    "# labeled_features = labeled_features.dropna()\n",
    "labeled_features_v1 = labeled_features_v1.dropna()"
   ]
  },
  {
   "cell_type": "code",
   "execution_count": 25,
   "metadata": {},
   "outputs": [],
   "source": [
    "# X_train = labeled_features['text']\n",
    "# Y_train = labeled_features['label']\n",
    "\n",
    "X_train = labeled_features_v1['text']\n",
    "Y_train = labeled_features_v1['label']\n",
    "\n",
    "X1_test = unlabeled_data['text']"
   ]
  },
  {
   "cell_type": "code",
   "execution_count": 8,
   "metadata": {},
   "outputs": [],
   "source": [
    "X_test = test_label_features['text']\n",
    "Y_test = test_label_features['label']"
   ]
  },
  {
   "cell_type": "code",
   "execution_count": 26,
   "metadata": {},
   "outputs": [
    {
     "name": "stdout",
     "output_type": "stream",
     "text": [
      "Vocab size: 49117\n",
      "x_train: <39998x49117 sparse matrix of type '<class 'numpy.float64'>'\n",
      "\twith 3071913 stored elements in Compressed Sparse Row format>\n",
      "x_test: <10000x49117 sparse matrix of type '<class 'numpy.float64'>'\n",
      "\twith 768433 stored elements in Compressed Sparse Row format>\n",
      "Number of features: 49117\n"
     ]
    }
   ],
   "source": [
    "from sklearn.feature_extraction.text import TfidfVectorizer\n",
    "\n",
    "tf_vectoriser = TfidfVectorizer(use_idf = True)\n",
    "\n",
    "x_train = tf_vectoriser.fit_transform(X_train)\n",
    "x_test = tf_vectoriser.transform(X_test)\n",
    "x1_test = tf_vectoriser.transform(X1_test)\n",
    "\n",
    "print(\"Vocab size: {}\".format(len(tf_vectoriser.vocabulary_)))\n",
    "print(\"x_train: {}\".format(repr(x_train)))\n",
    "print(\"x_test: {}\".format(repr(x_test)))\n",
    "\n",
    "feature_names = tf_vectoriser.get_feature_names()\n",
    "print(\"Number of features: {}\".format(len(feature_names)))"
   ]
  },
  {
   "cell_type": "code",
   "execution_count": null,
   "metadata": {},
   "outputs": [],
   "source": [
    "# column_name = x_train.indices\n",
    "# print(\"Column name: \", column_name)"
   ]
  },
  {
   "cell_type": "code",
   "execution_count": 27,
   "metadata": {},
   "outputs": [
    {
     "data": {
      "text/plain": [
       "(39998, 49117)"
      ]
     },
     "execution_count": 27,
     "metadata": {},
     "output_type": "execute_result"
    }
   ],
   "source": [
    "x_train.get_shape()"
   ]
  },
  {
   "cell_type": "code",
   "execution_count": 28,
   "metadata": {},
   "outputs": [
    {
     "data": {
      "text/plain": [
       "(10000, 49117)"
      ]
     },
     "execution_count": 28,
     "metadata": {},
     "output_type": "execute_result"
    }
   ],
   "source": [
    "x_test.get_shape()"
   ]
  },
  {
   "cell_type": "code",
   "execution_count": null,
   "metadata": {
    "scrolled": true
   },
   "outputs": [],
   "source": [
    "# first_vector_tfidfvectorizer=x_train[10]\n",
    "# df = pd.DataFrame(first_vector_tfidfvectorizer.T.todense(), index=tf_vectoriser.get_feature_names(), columns=[\"tfidf\"])\n",
    "# df.sort_values(by=[\"tfidf\"],ascending=False)"
   ]
  },
  {
   "cell_type": "code",
   "execution_count": 12,
   "metadata": {},
   "outputs": [
    {
     "name": "stdout",
     "output_type": "stream",
     "text": [
      "Sad: (39998,)\n",
      "Smile: (39998,)\n",
      "Laugh (39998,)\n",
      "Very happy: (39998,)\n",
      "crying: (39998,)\n",
      "tongueOut: (39998,)\n",
      "wink: (39998,)\n",
      "kiss: (39998,)\n",
      "surprise: (39998,)\n",
      "disgust: (39998,)\n",
      "exclamation: (39998,)\n",
      "capital_Ratio: (39998,)\n"
     ]
    }
   ],
   "source": [
    "# Adding emoticons for training\n",
    "\n",
    "sad = np.array(labeled_features_v1['sad'])\n",
    "print(\"Sad:\",sad.shape)\n",
    "smile = np.array(labeled_features_v1['smile'])\n",
    "print(\"Smile:\",smile.shape)\n",
    "laugh = np.array(labeled_features_v1['laugh'])\n",
    "print(\"Laugh\",laugh.shape)\n",
    "very_happy = np.array(labeled_features_v1['very_happy'])\n",
    "print(\"Very happy:\",very_happy.shape)\n",
    "crying = np.array(labeled_features_v1['crying'])\n",
    "print(\"crying:\",crying.shape)\n",
    "tongueOut = np.array(labeled_features_v1['tongueOut'])\n",
    "print(\"tongueOut:\",tongueOut.shape)\n",
    "wink = np.array(labeled_features_v1['wink'])\n",
    "print(\"wink:\",wink.shape)\n",
    "kiss = np.array(labeled_features_v1['kiss'])\n",
    "print(\"kiss:\",kiss.shape)\n",
    "surprise = np.array(labeled_features_v1['surprise'])\n",
    "print(\"surprise:\",surprise.shape)\n",
    "disgust = np.array(labeled_features_v1['disgust'])\n",
    "print(\"disgust:\",disgust.shape)\n",
    "exclamation = np.array(labeled_features_v1['exclamation'])\n",
    "print(\"exclamation:\",exclamation.shape)\n",
    "capital_Ratio = np.array(labeled_features_v1['capital_Ratio'])\n",
    "print(\"capital_Ratio:\",capital_Ratio.shape)"
   ]
  },
  {
   "cell_type": "code",
   "execution_count": 13,
   "metadata": {},
   "outputs": [
    {
     "name": "stdout",
     "output_type": "stream",
     "text": [
      "Sad: (10000,)\n",
      "Smile: (10000,)\n",
      "Laugh (10000,)\n",
      "Very happy: (10000,)\n",
      "crying: (10000,)\n",
      "tongueOut: (10000,)\n",
      "wink: (10000,)\n",
      "kiss: (10000,)\n",
      "surprise: (10000,)\n",
      "disgust: (10000,)\n",
      "exclamation: (10000,)\n",
      "capital_Ratio: (10000,)\n"
     ]
    }
   ],
   "source": [
    "# Adding emoticons for TEST\n",
    "\n",
    "sad1 = np.array(test_label_features['sad'])\n",
    "print(\"Sad:\",sad1.shape)\n",
    "smile1 = np.array(test_label_features['smile'])\n",
    "print(\"Smile:\",smile1.shape)\n",
    "laugh1 = np.array(test_label_features['laugh'])\n",
    "print(\"Laugh\",laugh1.shape)\n",
    "very_happy1 = np.array(test_label_features['very_happy'])\n",
    "print(\"Very happy:\",very_happy1.shape)\n",
    "crying1 = np.array(test_label_features['crying'])\n",
    "print(\"crying:\",crying1.shape)\n",
    "tongueOut1 = np.array(test_label_features['tongueOut'])\n",
    "print(\"tongueOut:\",tongueOut1.shape)\n",
    "wink1 = np.array(test_label_features['wink'])\n",
    "print(\"wink:\",wink1.shape)\n",
    "kiss1 = np.array(test_label_features['kiss'])\n",
    "print(\"kiss:\",kiss1.shape)\n",
    "surprise1 = np.array(test_label_features['surprise'])\n",
    "print(\"surprise:\",surprise1.shape)\n",
    "disgust1 = np.array(test_label_features['disgust'])\n",
    "print(\"disgust:\",disgust1.shape)\n",
    "exclamation1 = np.array(test_label_features['exclamation'])\n",
    "print(\"exclamation:\",exclamation1.shape)\n",
    "capital_Ratio1 = np.array(test_label_features['capital_Ratio'])\n",
    "print(\"capital_Ratio:\",capital_Ratio1.shape)"
   ]
  },
  {
   "cell_type": "code",
   "execution_count": 14,
   "metadata": {},
   "outputs": [],
   "source": [
    "from scipy.sparse import hstack\n",
    "\n",
    "X_train_dtm = hstack((x_train,sad[:,None]))\n",
    "X_train_dtm = hstack((X_train_dtm,smile[:,None]))\n",
    "X_train_dtm = hstack((X_train_dtm,laugh[:,None]))\n",
    "X_train_dtm = hstack((X_train_dtm,very_happy[:,None]))\n",
    "X_train_dtm = hstack((X_train_dtm,crying[:,None]))\n",
    "X_train_dtm = hstack((X_train_dtm,tongueOut[:,None]))\n",
    "X_train_dtm = hstack((X_train_dtm,wink[:,None]))\n",
    "X_train_dtm = hstack((X_train_dtm,kiss[:,None]))\n",
    "X_train_dtm = hstack((X_train_dtm,surprise[:,None]))\n",
    "X_train_dtm = hstack((X_train_dtm,disgust[:,None]))\n",
    "X_train_dtm = hstack((X_train_dtm,exclamation[:,None]))\n",
    "X_train_dtm = hstack((X_train_dtm,capital_Ratio[:,None]))"
   ]
  },
  {
   "cell_type": "code",
   "execution_count": 15,
   "metadata": {},
   "outputs": [],
   "source": [
    "from scipy.sparse import hstack\n",
    "\n",
    "X_test_dtm = hstack((x_test,sad1[:,None]))\n",
    "X_test_dtm = hstack((X_test_dtm,smile1[:,None]))\n",
    "X_test_dtm = hstack((X_test_dtm,laugh1[:,None]))\n",
    "X_test_dtm = hstack((X_test_dtm,very_happy1[:,None]))\n",
    "X_test_dtm = hstack((X_test_dtm,crying1[:,None]))\n",
    "X_test_dtm = hstack((X_test_dtm,tongueOut1[:,None]))\n",
    "X_test_dtm = hstack((X_test_dtm,wink1[:,None]))\n",
    "X_test_dtm = hstack((X_test_dtm,kiss1[:,None]))\n",
    "X_test_dtm = hstack((X_test_dtm,surprise1[:,None]))\n",
    "X_test_dtm = hstack((X_test_dtm,disgust1[:,None]))\n",
    "X_test_dtm = hstack((X_test_dtm,exclamation1[:,None]))\n",
    "X_test_dtm = hstack((X_test_dtm,capital_Ratio1[:,None]))"
   ]
  },
  {
   "cell_type": "code",
   "execution_count": 16,
   "metadata": {
    "scrolled": true
   },
   "outputs": [
    {
     "data": {
      "text/plain": [
       "(39998, 49129)"
      ]
     },
     "execution_count": 16,
     "metadata": {},
     "output_type": "execute_result"
    }
   ],
   "source": [
    "X_train_dtm.get_shape()"
   ]
  },
  {
   "cell_type": "code",
   "execution_count": 17,
   "metadata": {},
   "outputs": [
    {
     "data": {
      "text/plain": [
       "(10000, 49129)"
      ]
     },
     "execution_count": 17,
     "metadata": {},
     "output_type": "execute_result"
    }
   ],
   "source": [
    "X_test_dtm.get_shape()"
   ]
  },
  {
   "cell_type": "markdown",
   "metadata": {},
   "source": [
    "### Logistic regression"
   ]
  },
  {
   "cell_type": "code",
   "execution_count": 18,
   "metadata": {},
   "outputs": [
    {
     "data": {
      "text/plain": [
       "LogisticRegression(C=1.0, class_weight=None, dual=False, fit_intercept=True,\n",
       "          intercept_scaling=1, max_iter=100, multi_class='ovr', n_jobs=1,\n",
       "          penalty='l2', random_state=None, solver='liblinear', tol=0.0001,\n",
       "          verbose=0, warm_start=False)"
      ]
     },
     "execution_count": 18,
     "metadata": {},
     "output_type": "execute_result"
    }
   ],
   "source": [
    "clf = LogisticRegression()\n",
    "clf.fit(X_train_dtm, Y_train)"
   ]
  },
  {
   "cell_type": "code",
   "execution_count": 19,
   "metadata": {},
   "outputs": [],
   "source": [
    "y_pred = clf.predict(X_test_dtm)"
   ]
  },
  {
   "cell_type": "code",
   "execution_count": 20,
   "metadata": {},
   "outputs": [
    {
     "name": "stdout",
     "output_type": "stream",
     "text": [
      "Accuracy :  0.6025\n"
     ]
    }
   ],
   "source": [
    "from sklearn.metrics import accuracy_score\n",
    "\n",
    "print(\"Accuracy : \", accuracy_score(Y_test, y_pred))"
   ]
  },
  {
   "cell_type": "code",
   "execution_count": 22,
   "metadata": {},
   "outputs": [
    {
     "data": {
      "text/plain": [
       "pandas.core.series.Series"
      ]
     },
     "execution_count": 22,
     "metadata": {},
     "output_type": "execute_result"
    }
   ],
   "source": [
    "type(Y_train)"
   ]
  },
  {
   "cell_type": "markdown",
   "metadata": {},
   "source": [
    "### Extracting 50k records from unlabeled data and predicting the label"
   ]
  },
  {
   "cell_type": "code",
   "execution_count": 1,
   "metadata": {},
   "outputs": [
    {
     "ename": "NameError",
     "evalue": "name 'X1_test' is not defined",
     "output_type": "error",
     "traceback": [
      "\u001b[1;31m---------------------------------------------------------------------------\u001b[0m",
      "\u001b[1;31mNameError\u001b[0m                                 Traceback (most recent call last)",
      "\u001b[1;32m<ipython-input-1-c06ee57daaef>\u001b[0m in \u001b[0;36m<module>\u001b[1;34m()\u001b[0m\n\u001b[0;32m      2\u001b[0m \u001b[1;33m\u001b[0m\u001b[0m\n\u001b[0;32m      3\u001b[0m \u001b[1;31m# Converting unlabeled data to dataframe\u001b[0m\u001b[1;33m\u001b[0m\u001b[1;33m\u001b[0m\u001b[0m\n\u001b[1;32m----> 4\u001b[1;33m \u001b[0mX1_test_df\u001b[0m \u001b[1;33m=\u001b[0m \u001b[0mX1_test\u001b[0m\u001b[1;33m.\u001b[0m\u001b[0mto_frame\u001b[0m\u001b[1;33m(\u001b[0m\u001b[1;33m)\u001b[0m\u001b[1;33m\u001b[0m\u001b[0m\n\u001b[0m\u001b[0;32m      5\u001b[0m \u001b[1;33m\u001b[0m\u001b[0m\n\u001b[0;32m      6\u001b[0m \u001b[1;31m# Resetting the index of the dataframe\u001b[0m\u001b[1;33m\u001b[0m\u001b[1;33m\u001b[0m\u001b[0m\n",
      "\u001b[1;31mNameError\u001b[0m: name 'X1_test' is not defined"
     ]
    }
   ],
   "source": [
    "# extracting first 50k records from unlabeled data \n",
    "\n",
    "# Converting unlabeled data to dataframe\n",
    "X1_test_df = X1_test.to_frame()\n",
    "\n",
    "# Resetting the index of the dataframe\n",
    "X1_test_df.reset_index(inplace = True)\n",
    "\n",
    "# Dropping first column\n",
    "X1_test_df.drop('index', axis = 1, inplace = True)\n",
    "\n",
    "# new_data = X1_test_lr.sample(frac=0.1, replace = False)\n",
    "new_data = X1_test_df.iloc[0:50000,:]\n",
    "\n",
    "# converting the extracted records to series\n",
    "new_data = new_data.T.squeeze()"
   ]
  },
  {
   "cell_type": "code",
   "execution_count": null,
   "metadata": {},
   "outputs": [],
   "source": []
  }
 ],
 "metadata": {
  "kernelspec": {
   "display_name": "Python 3",
   "language": "python",
   "name": "python3"
  },
  "language_info": {
   "codemirror_mode": {
    "name": "ipython",
    "version": 3
   },
   "file_extension": ".py",
   "mimetype": "text/x-python",
   "name": "python",
   "nbconvert_exporter": "python",
   "pygments_lexer": "ipython3",
   "version": "3.6.5"
  }
 },
 "nbformat": 4,
 "nbformat_minor": 2
}
